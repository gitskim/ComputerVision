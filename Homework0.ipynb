{
 "cells": [
  {
   "cell_type": "markdown",
   "metadata": {},
   "source": [
    "Homework 0\n",
    "==========\n",
    "\n",
    "Sergei Mikhailovich Prokudin-Gorskii was a color photographer far ahead of his time. He undertook a photographic survey of the Russian Empire for Tsar Nicholas II and was able to capture color pictures before color cameras were invented. His idea was to simply take three pictures of each scene, each with a red, green and blue color filter which could then be used to obtain a color image. There was no way of printing these back in the day, so he envisioned complex display devices to show these. However these were never made, but his pictures survived. In this homework, you will write a program to combine individual photos into a gray-scale photo.\n",
    "\n",
    "Visualizing the Data\n",
    "--------------------\n",
    "You have been given the red, green, and blue channels of an image that were taken separately using this technique. These files are named red.npy, green.npy, and blue.npy respectively. Let's load these images, and visualize them."
   ]
  },
  {
   "cell_type": "code",
   "execution_count": null,
   "metadata": {},
   "outputs": [],
   "source": [
    "# Load libraries and convenience functions\n",
    "\n",
    "from IPython import display\n",
    "import matplotlib.pyplot as plt\n",
    "import numpy as np\n",
    "\n",
    "def load_image(filename):\n",
    "    img = np.load(filename)\n",
    "    img = img.astype(\"float32\") / 255.\n",
    "    return img\n",
    "\n",
    "def gray2rgb(image):\n",
    "    return np.repeat(np.expand_dims(image, 2), 3, axis=2)\n",
    "\n",
    "def show_image(img):\n",
    "    plt.imshow(img, interpolation='nearest')"
   ]
  },
  {
   "cell_type": "code",
   "execution_count": null,
   "metadata": {},
   "outputs": [],
   "source": [
    "images = [load_image('red.npy'),\n",
    "          load_image('green.npy'),\n",
    "          load_image('blue.npy')]\n",
    "\n",
    "show_image(gray2rgb(np.concatenate(images, axis=1)))"
   ]
  },
  {
   "cell_type": "markdown",
   "metadata": {},
   "source": [
    "The Problem\n",
    "-----------\n",
    "Because these images were taken separately, just combining them in a 3-channel matrix may not work. The code below shows what happens if you simply combine the images without shifting any of the channels. Run the code to visualize what happens if you just combine them without correctly aligning them."
   ]
  },
  {
   "cell_type": "code",
   "execution_count": null,
   "metadata": {},
   "outputs": [],
   "source": [
    "show_image(np.stack(images, axis=-1))"
   ]
  },
  {
   "cell_type": "markdown",
   "metadata": {},
   "source": [
    "Your Task\n",
    "---------\n",
    "\n",
    "Your job is to write a function that takes these three images, and correctly aligns them. Since you have to process many of these images, you do not want to manually align them. Instead, your task is to write a program that automatically finds the alignment, then combines them together to produce the final image.\n",
    "\n",
    "The easiest way to do this is to find the alignment between two pairs of channels at a time. For example, you can figure out how to align the red channel with the green channel, and the red channel with the blue channel. Then, you can combine them together.\n",
    "\n",
    "We have given you code to get you started. You should fill in three areas:\n",
    "\n",
    "1. **score_function(im1, im2)** should take in two images, and return a floating point score to indicate how well the two images are aligned. The lower the score, the better they are aligned. There are many scoring functions you can experiment with. The simplest is Euclidean distance betwen the two images.\n",
    "\n",
    "2. **align_channels(chan1, chan2)** should take in two images, and return a tuple (dy, dx) indicating how to shift one image into the other. This funnction should call **score_function()** to perform this task. For simplicity, you can assume that the shift is at most -30 pixels to 30 pixels. \n",
    "\n",
    "3. **combine_images()** should use the found alignments to correctly combine the images into a color image.\n",
    "\n",
    "Submission\n",
    "----------\n",
    "\n",
    "You should export your completed notebook as a PDF and upload to Courseworks. The completed notebook should show your code, as well as the final combined image you created. "
   ]
  },
  {
   "cell_type": "code",
   "execution_count": null,
   "metadata": {},
   "outputs": [],
   "source": [
    "# Store the height and width of the images\n",
    "height, width = images[0].shape\n",
    "\n",
    "# Pad each image with black by 30 pixels. You do not need to use this, but\n",
    "# padding may make your implementation easier.\n",
    "pad_size = 30\n",
    "images_pad = [np.pad(x, pad_size, mode='constant') for x in images]\n",
    "\n",
    "# Given two matrices, write a function that returns a number of how well they are aligned.\n",
    "# The lower the number, the better they are aligned. There are a variety of scoring functions\n",
    "# you can use. The simplest one is the Euclidean distance between the two matrices. \n",
    "def score_function(im1, im2):\n",
    "    # TODO\n",
    "    pass\n",
    "\n",
    "# Given two matrices chan1 and chan2, return a tuple of how to shift chan2 into chan1. This\n",
    "# function should search over many different shifts, and find the best shift that minimizes\n",
    "# the scoring function defined above. \n",
    "def align_channels(chan1, chan2):\n",
    "    best_offset = (0,0)\n",
    "    best_score = 0\n",
    "    # TODO\n",
    "    return best_offset\n",
    "\n",
    "rg_dy, rg_dx = align_channels(images_pad[0], images_pad[1])\n",
    "rb_dy, rb_dx = align_channels(images_pad[0], images_pad[2])\n",
    "\n",
    "# Use the best alignments to now combine the three images. You should use any of the variables\n",
    "# above to return a tensor that is (Height)x(Width)x3, which is a color image that you can visualize.\n",
    "def combine_images():\n",
    "    #TODO\n",
    "    return None\n",
    "\n",
    "final_image = combine_images()\n",
    "if final_image is not None:\n",
    "    show_image(final_image)"
   ]
  },
  {
   "cell_type": "markdown",
   "metadata": {},
   "source": [
    "Acknowledgements\n",
    "----------------\n",
    "\n",
    "This homework is based on assignments from Subhransu Maji at University of Massachusetts, Amherst, Alyosha Efros at University of California, Berkeley, Jia Deng at University of Michigan, and Deva Ramanan at Carnegie Mellon University. "
   ]
  },
  {
   "cell_type": "code",
   "execution_count": null,
   "metadata": {},
   "outputs": [],
   "source": []
  }
 ],
 "metadata": {
  "kernelspec": {
   "display_name": "Python 3",
   "language": "python",
   "name": "python3"
  },
  "language_info": {
   "codemirror_mode": {
    "name": "ipython",
    "version": 3
   },
   "file_extension": ".py",
   "mimetype": "text/x-python",
   "name": "python",
   "nbconvert_exporter": "python",
   "pygments_lexer": "ipython3",
   "version": "3.6.8"
  }
 },
 "nbformat": 4,
 "nbformat_minor": 2
}
